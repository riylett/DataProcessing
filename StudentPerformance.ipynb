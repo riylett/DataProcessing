{
 "cells": [
  {
   "cell_type": "code",
   "execution_count": 2,
   "id": "6c56c950-4e69-436d-8570-72143385261a",
   "metadata": {},
   "outputs": [],
   "source": [
    "import numpy as np\n",
    "import pandas as pd\n",
    "import seaborn as sns\n",
    "import matplotlib.pyplot as plt"
   ]
  },
  {
   "cell_type": "markdown",
   "id": "3692a04a-eb44-424d-b1a3-8615bb17127f",
   "metadata": {},
   "source": [
    "#### Reading the data"
   ]
  },
  {
   "cell_type": "code",
   "execution_count": 4,
   "id": "1a14bc1c-c20d-4e4c-bfbb-5dda9bfee14d",
   "metadata": {},
   "outputs": [],
   "source": [
    "StudentPor = pd.read_csv('student-por.csv',sep=';')"
   ]
  },
  {
   "cell_type": "code",
   "execution_count": 6,
   "id": "c67a9d66-7ef2-4a2a-9b53-a00de188526b",
   "metadata": {},
   "outputs": [],
   "source": [
    "StudentMat = pd.read_csv('student-mat.csv',sep=';')"
   ]
  },
  {
   "cell_type": "markdown",
   "id": "d94735e8-b7db-4e46-be14-2c2c9c0dc123",
   "metadata": {},
   "source": [
    "### Task 1"
   ]
  },
  {
   "cell_type": "markdown",
   "id": "71c7a850-2bbb-4be5-a08e-4337e99d08bc",
   "metadata": {},
   "source": [
    "I merged the data of Portuguese and Math using the columns that were specified in the .R file that came with the data but I also wanted to keep the data of the students who did not belong to both of the subject data so I used an outer merge and used an indicator to know what the row has data about."
   ]
  },
  {
   "cell_type": "code",
   "execution_count": 8,
   "id": "9b684a96-687a-424b-a7b6-021b853a892b",
   "metadata": {},
   "outputs": [],
   "source": [
    "students = StudentPor.merge(StudentMat,on=(\"school\",\"sex\",\"age\",\"address\",\"famsize\",\"Pstatus\",\"Medu\",\"Fedu\",\"Mjob\",\"Fjob\",\"reason\",\"nursery\",\"internet\"),\n",
    "                           how=\"outer\", suffixes=('_por', '_math'),indicator=True)"
   ]
  },
  {
   "cell_type": "code",
   "execution_count": 10,
   "id": "f5338fe9-eb6b-46ac-8849-e37afe76ea08",
   "metadata": {},
   "outputs": [
    {
     "name": "stdout",
     "output_type": "stream",
     "text": [
      "<class 'pandas.core.frame.DataFrame'>\n",
      "RangeIndex: 682 entries, 0 to 681\n",
      "Data columns (total 54 columns):\n",
      " #   Column           Non-Null Count  Dtype   \n",
      "---  ------           --------------  -----   \n",
      " 0   school           682 non-null    object  \n",
      " 1   sex              682 non-null    object  \n",
      " 2   age              682 non-null    int64   \n",
      " 3   address          682 non-null    object  \n",
      " 4   famsize          682 non-null    object  \n",
      " 5   Pstatus          682 non-null    object  \n",
      " 6   Medu             682 non-null    int64   \n",
      " 7   Fedu             682 non-null    int64   \n",
      " 8   Mjob             682 non-null    object  \n",
      " 9   Fjob             682 non-null    object  \n",
      " 10  reason           682 non-null    object  \n",
      " 11  guardian_por     657 non-null    object  \n",
      " 12  traveltime_por   657 non-null    float64 \n",
      " 13  studytime_por    657 non-null    float64 \n",
      " 14  failures_por     657 non-null    float64 \n",
      " 15  schoolsup_por    657 non-null    object  \n",
      " 16  famsup_por       657 non-null    object  \n",
      " 17  paid_por         657 non-null    object  \n",
      " 18  activities_por   657 non-null    object  \n",
      " 19  nursery          682 non-null    object  \n",
      " 20  higher_por       657 non-null    object  \n",
      " 21  internet         682 non-null    object  \n",
      " 22  romantic_por     657 non-null    object  \n",
      " 23  famrel_por       657 non-null    float64 \n",
      " 24  freetime_por     657 non-null    float64 \n",
      " 25  goout_por        657 non-null    float64 \n",
      " 26  Dalc_por         657 non-null    float64 \n",
      " 27  Walc_por         657 non-null    float64 \n",
      " 28  health_por       657 non-null    float64 \n",
      " 29  absences_por     657 non-null    float64 \n",
      " 30  G1_por           657 non-null    float64 \n",
      " 31  G2_por           657 non-null    float64 \n",
      " 32  G3_por           657 non-null    float64 \n",
      " 33  guardian_math    407 non-null    object  \n",
      " 34  traveltime_math  407 non-null    float64 \n",
      " 35  studytime_math   407 non-null    float64 \n",
      " 36  failures_math    407 non-null    float64 \n",
      " 37  schoolsup_math   407 non-null    object  \n",
      " 38  famsup_math      407 non-null    object  \n",
      " 39  paid_math        407 non-null    object  \n",
      " 40  activities_math  407 non-null    object  \n",
      " 41  higher_math      407 non-null    object  \n",
      " 42  romantic_math    407 non-null    object  \n",
      " 43  famrel_math      407 non-null    float64 \n",
      " 44  freetime_math    407 non-null    float64 \n",
      " 45  goout_math       407 non-null    float64 \n",
      " 46  Dalc_math        407 non-null    float64 \n",
      " 47  Walc_math        407 non-null    float64 \n",
      " 48  health_math      407 non-null    float64 \n",
      " 49  absences_math    407 non-null    float64 \n",
      " 50  G1_math          407 non-null    float64 \n",
      " 51  G2_math          407 non-null    float64 \n",
      " 52  G3_math          407 non-null    float64 \n",
      " 53  _merge           682 non-null    category\n",
      "dtypes: category(1), float64(26), int64(3), object(24)\n",
      "memory usage: 283.3+ KB\n"
     ]
    }
   ],
   "source": [
    "students.info() #the indicator is called _merge"
   ]
  },
  {
   "cell_type": "markdown",
   "id": "6936c419-980d-4e85-b26c-69511049f8b4",
   "metadata": {},
   "source": [
    "There is some problem with this numbers of the rows. We should have 1044 rows looking at the data from the csv files but after the merge there is 1064 rows. 382x2+275+25= 1064. So there is 20 extra rows after the merge which is weird."
   ]
  },
  {
   "cell_type": "code",
   "execution_count": 12,
   "id": "6f6b93f4-a16d-4fe9-a419-ab8ba4db94b9",
   "metadata": {},
   "outputs": [
    {
     "data": {
      "text/plain": [
       "_merge\n",
       "both          382\n",
       "left_only     275\n",
       "right_only     25\n",
       "Name: count, dtype: int64"
      ]
     },
     "execution_count": 12,
     "metadata": {},
     "output_type": "execute_result"
    }
   ],
   "source": [
    "students.loc[:,'_merge'].value_counts()"
   ]
  },
  {
   "cell_type": "markdown",
   "id": "9908b523-ea9b-43e5-8c95-3d148e501631",
   "metadata": {},
   "source": [
    "I wanted to check if any of the columns stayed consistent for the same student's data from different subjects. I thought for example \"guardian\" or \"romantic\" column should be the same. But it wasn't the case and every column other than the ones used in the merge had inconsistencies."
   ]
  },
  {
   "cell_type": "code",
   "execution_count": 14,
   "id": "7612a1ba-ddaf-440e-911a-56877ba40db0",
   "metadata": {},
   "outputs": [
    {
     "name": "stdout",
     "output_type": "stream",
     "text": [
      "Inconsistencies found in column: guardian\n",
      "Inconsistencies found in column: traveltime\n",
      "Inconsistencies found in column: studytime\n",
      "Inconsistencies found in column: failures\n",
      "Inconsistencies found in column: schoolsup\n",
      "Inconsistencies found in column: famsup\n",
      "Inconsistencies found in column: paid\n",
      "Inconsistencies found in column: activities\n",
      "Inconsistencies found in column: higher\n",
      "Inconsistencies found in column: romantic\n",
      "Inconsistencies found in column: famrel\n",
      "Inconsistencies found in column: freetime\n",
      "Inconsistencies found in column: goout\n",
      "Inconsistencies found in column: Dalc\n",
      "Inconsistencies found in column: Walc\n",
      "Inconsistencies found in column: health\n",
      "Inconsistencies found in column: absences\n"
     ]
    }
   ],
   "source": [
    "check_columns = ['guardian', 'traveltime', 'studytime', 'failures', 'schoolsup','famsup','paid','activities','higher','romantic','famrel','freetime','goout','Dalc','Walc','health','absences']\n",
    "for col in check_columns:\n",
    "    inconsistencies = students[(students.loc[:,\"_merge\"]=='both') & (students.loc[:,f\"{col}_math\"] != students.loc[:,f\"{col}_por\"])]\n",
    "    if not inconsistencies.empty:\n",
    "        print(f\"Inconsistencies found in column: {col}\")"
   ]
  },
  {
   "cell_type": "markdown",
   "id": "a4c037cb-f5c5-4a62-aa04-61838a111a42",
   "metadata": {},
   "source": [
    "### Task 2"
   ]
  },
  {
   "cell_type": "markdown",
   "id": "58db715a-b17c-483e-8efa-978971fd2cca",
   "metadata": {},
   "source": [
    "#### Part 1"
   ]
  },
  {
   "cell_type": "markdown",
   "id": "c85a55ef-3b40-4684-b475-fcd26a60a1f7",
   "metadata": {},
   "source": [
    "Final grade is called G3 and it has numeric value in the range 0-20 I will just multiply by 5 to scale it to 0-100"
   ]
  },
  {
   "cell_type": "code",
   "execution_count": 16,
   "id": "38c5e5a7-87b1-4996-a89e-055c1c2d6289",
   "metadata": {},
   "outputs": [],
   "source": [
    "students.loc[:,'G3_math_scaled'] = students.loc[:,'G3_math'] * 5\n",
    "students.loc[:,'G3_por_scaled'] = students.loc[:,'G3_por'] * 5"
   ]
  },
  {
   "cell_type": "code",
   "execution_count": 18,
   "id": "d7bc95a9-dd6a-4642-9618-494df6e6eb70",
   "metadata": {},
   "outputs": [
    {
     "data": {
      "text/html": [
       "<div>\n",
       "<style scoped>\n",
       "    .dataframe tbody tr th:only-of-type {\n",
       "        vertical-align: middle;\n",
       "    }\n",
       "\n",
       "    .dataframe tbody tr th {\n",
       "        vertical-align: top;\n",
       "    }\n",
       "\n",
       "    .dataframe thead th {\n",
       "        text-align: right;\n",
       "    }\n",
       "</style>\n",
       "<table border=\"1\" class=\"dataframe\">\n",
       "  <thead>\n",
       "    <tr style=\"text-align: right;\">\n",
       "      <th></th>\n",
       "      <th>G3_math</th>\n",
       "      <th>G3_math_scaled</th>\n",
       "      <th>G3_por</th>\n",
       "      <th>G3_por_scaled</th>\n",
       "    </tr>\n",
       "  </thead>\n",
       "  <tbody>\n",
       "    <tr>\n",
       "      <th>0</th>\n",
       "      <td>10.0</td>\n",
       "      <td>50.0</td>\n",
       "      <td>13.0</td>\n",
       "      <td>65.0</td>\n",
       "    </tr>\n",
       "    <tr>\n",
       "      <th>1</th>\n",
       "      <td>NaN</td>\n",
       "      <td>NaN</td>\n",
       "      <td>9.0</td>\n",
       "      <td>45.0</td>\n",
       "    </tr>\n",
       "    <tr>\n",
       "      <th>2</th>\n",
       "      <td>5.0</td>\n",
       "      <td>25.0</td>\n",
       "      <td>11.0</td>\n",
       "      <td>55.0</td>\n",
       "    </tr>\n",
       "    <tr>\n",
       "      <th>3</th>\n",
       "      <td>13.0</td>\n",
       "      <td>65.0</td>\n",
       "      <td>12.0</td>\n",
       "      <td>60.0</td>\n",
       "    </tr>\n",
       "    <tr>\n",
       "      <th>4</th>\n",
       "      <td>8.0</td>\n",
       "      <td>40.0</td>\n",
       "      <td>10.0</td>\n",
       "      <td>50.0</td>\n",
       "    </tr>\n",
       "  </tbody>\n",
       "</table>\n",
       "</div>"
      ],
      "text/plain": [
       "   G3_math  G3_math_scaled  G3_por  G3_por_scaled\n",
       "0     10.0            50.0    13.0           65.0\n",
       "1      NaN             NaN     9.0           45.0\n",
       "2      5.0            25.0    11.0           55.0\n",
       "3     13.0            65.0    12.0           60.0\n",
       "4      8.0            40.0    10.0           50.0"
      ]
     },
     "execution_count": 18,
     "metadata": {},
     "output_type": "execute_result"
    }
   ],
   "source": [
    "students.loc[:,['G3_math', 'G3_math_scaled', 'G3_por', 'G3_por_scaled']].head()"
   ]
  },
  {
   "cell_type": "markdown",
   "id": "b600936b-a4c5-4558-af31-ccd2db056b5d",
   "metadata": {},
   "source": [
    "#### Part 2"
   ]
  },
  {
   "cell_type": "markdown",
   "id": "bc1b00a3-6765-4139-a98c-802cb78931aa",
   "metadata": {},
   "source": [
    "The meaning of the studytime column: \n",
    "studytime - weekly study time (numeric: 1 - <2 hours, 2 - 2 to 5 hours, 3 - 5 to 10 hours, or 4 - >10 hours)"
   ]
  },
  {
   "cell_type": "code",
   "execution_count": 20,
   "id": "7bf8e30f-8a1c-452e-b98f-b9ca97bc98ae",
   "metadata": {},
   "outputs": [
    {
     "data": {
      "text/html": [
       "<div>\n",
       "<style scoped>\n",
       "    .dataframe tbody tr th:only-of-type {\n",
       "        vertical-align: middle;\n",
       "    }\n",
       "\n",
       "    .dataframe tbody tr th {\n",
       "        vertical-align: top;\n",
       "    }\n",
       "\n",
       "    .dataframe thead tr th {\n",
       "        text-align: left;\n",
       "    }\n",
       "\n",
       "    .dataframe thead tr:last-of-type th {\n",
       "        text-align: right;\n",
       "    }\n",
       "</style>\n",
       "<table border=\"1\" class=\"dataframe\">\n",
       "  <thead>\n",
       "    <tr>\n",
       "      <th></th>\n",
       "      <th colspan=\"4\" halign=\"left\">G3_math_scaled</th>\n",
       "    </tr>\n",
       "    <tr>\n",
       "      <th></th>\n",
       "      <th>min</th>\n",
       "      <th>max</th>\n",
       "      <th>median</th>\n",
       "      <th>mean</th>\n",
       "    </tr>\n",
       "    <tr>\n",
       "      <th>studytime_math</th>\n",
       "      <th></th>\n",
       "      <th></th>\n",
       "      <th></th>\n",
       "      <th></th>\n",
       "    </tr>\n",
       "  </thead>\n",
       "  <tbody>\n",
       "    <tr>\n",
       "      <th>1.0</th>\n",
       "      <td>0.0</td>\n",
       "      <td>95.0</td>\n",
       "      <td>50.0</td>\n",
       "      <td>49.363636</td>\n",
       "    </tr>\n",
       "    <tr>\n",
       "      <th>2.0</th>\n",
       "      <td>0.0</td>\n",
       "      <td>95.0</td>\n",
       "      <td>55.0</td>\n",
       "      <td>50.541872</td>\n",
       "    </tr>\n",
       "    <tr>\n",
       "      <th>3.0</th>\n",
       "      <td>0.0</td>\n",
       "      <td>95.0</td>\n",
       "      <td>60.0</td>\n",
       "      <td>57.313433</td>\n",
       "    </tr>\n",
       "    <tr>\n",
       "      <th>4.0</th>\n",
       "      <td>0.0</td>\n",
       "      <td>100.0</td>\n",
       "      <td>60.0</td>\n",
       "      <td>56.296296</td>\n",
       "    </tr>\n",
       "  </tbody>\n",
       "</table>\n",
       "</div>"
      ],
      "text/plain": [
       "               G3_math_scaled                         \n",
       "                          min    max median       mean\n",
       "studytime_math                                        \n",
       "1.0                       0.0   95.0   50.0  49.363636\n",
       "2.0                       0.0   95.0   55.0  50.541872\n",
       "3.0                       0.0   95.0   60.0  57.313433\n",
       "4.0                       0.0  100.0   60.0  56.296296"
      ]
     },
     "execution_count": 20,
     "metadata": {},
     "output_type": "execute_result"
    }
   ],
   "source": [
    "studytime_math_analysis = students.loc[:,['studytime_math','G3_math_scaled']].groupby('studytime_math').agg({'G3_math_scaled': ['min', 'max', 'median', 'mean']})\n",
    "studytime_math_analysis"
   ]
  },
  {
   "cell_type": "markdown",
   "id": "a8d0a201-719e-4000-88e3-503443d79325",
   "metadata": {},
   "source": [
    "We can see from this result that generally average grade gets higher as the studytime increases. We can especially see a prominent increase from studytime 2 to studytime 3 so from study time being 2-5 hours to 5-10 hours. We can also observe a decrease in the average grade when study time is more than 10 hours. In general students who studied for 5-10 hours performed better than those who studied for more than 10 hours. But we can still see that the student with the highest grade which is 100/100 studied for more than 10 hours."
   ]
  },
  {
   "cell_type": "code",
   "execution_count": 22,
   "id": "4441c787-b853-4c37-937d-d546ab3a7acc",
   "metadata": {},
   "outputs": [
    {
     "data": {
      "text/html": [
       "<div>\n",
       "<style scoped>\n",
       "    .dataframe tbody tr th:only-of-type {\n",
       "        vertical-align: middle;\n",
       "    }\n",
       "\n",
       "    .dataframe tbody tr th {\n",
       "        vertical-align: top;\n",
       "    }\n",
       "\n",
       "    .dataframe thead tr th {\n",
       "        text-align: left;\n",
       "    }\n",
       "\n",
       "    .dataframe thead tr:last-of-type th {\n",
       "        text-align: right;\n",
       "    }\n",
       "</style>\n",
       "<table border=\"1\" class=\"dataframe\">\n",
       "  <thead>\n",
       "    <tr>\n",
       "      <th></th>\n",
       "      <th colspan=\"4\" halign=\"left\">G3_por_scaled</th>\n",
       "    </tr>\n",
       "    <tr>\n",
       "      <th></th>\n",
       "      <th>min</th>\n",
       "      <th>max</th>\n",
       "      <th>median</th>\n",
       "      <th>mean</th>\n",
       "    </tr>\n",
       "    <tr>\n",
       "      <th>studytime_por</th>\n",
       "      <th></th>\n",
       "      <th></th>\n",
       "      <th></th>\n",
       "      <th></th>\n",
       "    </tr>\n",
       "  </thead>\n",
       "  <tbody>\n",
       "    <tr>\n",
       "      <th>1.0</th>\n",
       "      <td>0.0</td>\n",
       "      <td>90.0</td>\n",
       "      <td>55.0</td>\n",
       "      <td>54.050926</td>\n",
       "    </tr>\n",
       "    <tr>\n",
       "      <th>2.0</th>\n",
       "      <td>0.0</td>\n",
       "      <td>95.0</td>\n",
       "      <td>60.0</td>\n",
       "      <td>60.519481</td>\n",
       "    </tr>\n",
       "    <tr>\n",
       "      <th>3.0</th>\n",
       "      <td>40.0</td>\n",
       "      <td>90.0</td>\n",
       "      <td>65.0</td>\n",
       "      <td>66.173469</td>\n",
       "    </tr>\n",
       "    <tr>\n",
       "      <th>4.0</th>\n",
       "      <td>30.0</td>\n",
       "      <td>95.0</td>\n",
       "      <td>65.0</td>\n",
       "      <td>65.285714</td>\n",
       "    </tr>\n",
       "  </tbody>\n",
       "</table>\n",
       "</div>"
      ],
      "text/plain": [
       "              G3_por_scaled                        \n",
       "                        min   max median       mean\n",
       "studytime_por                                      \n",
       "1.0                     0.0  90.0   55.0  54.050926\n",
       "2.0                     0.0  95.0   60.0  60.519481\n",
       "3.0                    40.0  90.0   65.0  66.173469\n",
       "4.0                    30.0  95.0   65.0  65.285714"
      ]
     },
     "execution_count": 22,
     "metadata": {},
     "output_type": "execute_result"
    }
   ],
   "source": [
    "studytime_por_analysis = students.loc[:,['studytime_por','G3_por_scaled']].groupby('studytime_por').agg({'G3_por_scaled': ['min', 'max', 'median', 'mean']})\n",
    "studytime_por_analysis"
   ]
  },
  {
   "cell_type": "markdown",
   "id": "77a2ddd6-2018-4e2d-b209-63b83d1c9219",
   "metadata": {},
   "source": [
    "Again we can see the clear increase in the average grade when the study time increases for studytime up to 3rd category. We can also see that for this subject there is also a prominent increase from category 1 to category 2 which was not the case for math."
   ]
  },
  {
   "cell_type": "markdown",
   "id": "b649d692-c243-455b-ab02-18551c298402",
   "metadata": {},
   "source": [
    "I want to represent the results on a graph."
   ]
  },
  {
   "cell_type": "code",
   "execution_count": 24,
   "id": "91455636-0086-4d26-b367-cda4748d1329",
   "metadata": {},
   "outputs": [
    {
     "name": "stdout",
     "output_type": "stream",
     "text": [
      "<class 'pandas.core.frame.DataFrame'>\n",
      "Index: 4 entries, 1.0 to 4.0\n",
      "Data columns (total 4 columns):\n",
      " #   Column                    Non-Null Count  Dtype  \n",
      "---  ------                    --------------  -----  \n",
      " 0   (G3_math_scaled, min)     4 non-null      float64\n",
      " 1   (G3_math_scaled, max)     4 non-null      float64\n",
      " 2   (G3_math_scaled, median)  4 non-null      float64\n",
      " 3   (G3_math_scaled, mean)    4 non-null      float64\n",
      "dtypes: float64(4)\n",
      "memory usage: 160.0 bytes\n"
     ]
    }
   ],
   "source": [
    "studytime_math_analysis.info()"
   ]
  },
  {
   "cell_type": "markdown",
   "id": "556601ce-5933-4434-8137-526a3414545c",
   "metadata": {},
   "source": [
    "To make the data easy to graph I need to reset the index and rename the columns."
   ]
  },
  {
   "cell_type": "code",
   "execution_count": 26,
   "id": "e2e19522-edfe-47e0-9890-6b759caf44d5",
   "metadata": {},
   "outputs": [],
   "source": [
    "studytime_math_analysis_graph = studytime_math_analysis.reset_index()\n",
    "studytime_math_analysis_graph.columns = ['studytime_math', 'min', 'max', 'median', 'mean']"
   ]
  },
  {
   "cell_type": "code",
   "execution_count": 28,
   "id": "b6f37f63-ec18-4296-9695-3c62551361a4",
   "metadata": {},
   "outputs": [
    {
     "name": "stdout",
     "output_type": "stream",
     "text": [
      "<class 'pandas.core.frame.DataFrame'>\n",
      "RangeIndex: 4 entries, 0 to 3\n",
      "Data columns (total 5 columns):\n",
      " #   Column          Non-Null Count  Dtype  \n",
      "---  ------          --------------  -----  \n",
      " 0   studytime_math  4 non-null      float64\n",
      " 1   min             4 non-null      float64\n",
      " 2   max             4 non-null      float64\n",
      " 3   median          4 non-null      float64\n",
      " 4   mean            4 non-null      float64\n",
      "dtypes: float64(5)\n",
      "memory usage: 292.0 bytes\n"
     ]
    }
   ],
   "source": [
    "studytime_math_analysis_graph.info()"
   ]
  },
  {
   "cell_type": "code",
   "execution_count": 30,
   "id": "d31308f5-f940-4cc2-b9d7-dd9a3a48a101",
   "metadata": {},
   "outputs": [],
   "source": [
    "studytime_por_analysis_graph = studytime_por_analysis.reset_index()\n",
    "studytime_por_analysis_graph.columns = ['studytime_por', 'min', 'max', 'median', 'mean']"
   ]
  },
  {
   "cell_type": "code",
   "execution_count": 103,
   "id": "1945a021-604a-41e4-864c-8f4151d65533",
   "metadata": {},
   "outputs": [
    {
     "data": {
      "image/png": "[encoded data removed]",
      "text/plain": [
       "<Figure size 640x480 with 1 Axes>"
      ]
     },
     "metadata": {},
     "output_type": "display_data"
    }
   ],
   "source": [
    "sns.lineplot(data=studytime_math_analysis_graph, x='studytime_math', y='mean', label='Math')\n",
    "sns.lineplot(data=studytime_por_analysis_graph, x='studytime_por', y='mean', label='Portuguese')\n",
    "plt.title('Average Final Grades by Study Time')\n",
    "plt.xlabel('Study Time')\n",
    "plt.ylabel('Scaled Grades(0-100)')\n",
    "plt.legend()\n",
    "plt.show()"
   ]
  },
  {
   "cell_type": "markdown",
   "id": "e6893fdc-010b-48a2-afd5-67c240b8c062",
   "metadata": {},
   "source": [
    "We can observe from the graph that the average grade increases as studytime increases until studytime reaches 3 after that there is a slight decrease in the average grade. We can also see that the average grade for portuguese is higher than average grade for mathematics for all of the equivalent study times."
   ]
  },
  {
   "cell_type": "markdown",
   "id": "c447ee2f-6c92-4efe-ba8a-7619fdeba384",
   "metadata": {},
   "source": [
    "#### Part 3"
   ]
  },
  {
   "cell_type": "code",
   "execution_count": 34,
   "id": "0af7a9a9-bda2-4f9e-9437-0e6f92f8157c",
   "metadata": {},
   "outputs": [
    {
     "data": {
      "text/plain": [
       "0.176581818555583"
      ]
     },
     "execution_count": 34,
     "metadata": {},
     "output_type": "execute_result"
    }
   ],
   "source": [
    "correlation_math = students.loc[:,'age'].corr(students.loc[:,'absences_math'])\n",
    "correlation_math"
   ]
  },
  {
   "cell_type": "markdown",
   "id": "60f9aa21-274e-43bb-8115-100e0100789f",
   "metadata": {},
   "source": [
    "This is a weak positive correlation. We can say that as students get older they might have more absences but its quite weak."
   ]
  },
  {
   "cell_type": "code",
   "execution_count": 36,
   "id": "9c68b12a-9d09-4546-9bbd-6abf7f0ffe24",
   "metadata": {},
   "outputs": [
    {
     "data": {
      "text/plain": [
       "0.14506534463300438"
      ]
     },
     "execution_count": 36,
     "metadata": {},
     "output_type": "execute_result"
    }
   ],
   "source": [
    "correlation_por = students.loc[:,'age'].corr(students.loc[:,'absences_por'])\n",
    "correlation_por"
   ]
  },
  {
   "cell_type": "markdown",
   "id": "0a2f21a7-bfaf-439a-ba4f-7f1cd247b4dc",
   "metadata": {},
   "source": [
    "Very similar to the result of the above correlation but its a bit weaker."
   ]
  },
  {
   "cell_type": "code",
   "execution_count": 38,
   "id": "94746d18-8ae3-4ac4-9b1a-8b5fcca14129",
   "metadata": {},
   "outputs": [
    {
     "data": {
      "text/plain": [
       "0.12667233856755422"
      ]
     },
     "execution_count": 38,
     "metadata": {},
     "output_type": "execute_result"
    }
   ],
   "source": [
    "correlation_avg = students.loc[:,'age'].corr((students.loc[:,'absences_math'] + students.loc[:,'absences_por']) / 2)\n",
    "correlation_avg"
   ]
  },
  {
   "cell_type": "markdown",
   "id": "f3d3783e-85d0-438b-b231-b4f6a426a0e5",
   "metadata": {},
   "source": [
    "Again very similar but this is the weakest correlation."
   ]
  },
  {
   "cell_type": "code",
   "execution_count": 40,
   "id": "3f42a7f4-7b3b-4e37-890a-85df1bec530b",
   "metadata": {},
   "outputs": [
    {
     "data": {
      "image/png": "[encoded data removed]",
      "text/plain": [
       "<Figure size 640x480 with 1 Axes>"
      ]
     },
     "metadata": {},
     "output_type": "display_data"
    }
   ],
   "source": [
    "average_abs = (students.loc[:,'absences_math'] + students.loc[:,'absences_por']) / 2\n",
    "sns.regplot(x=students.loc[:,'age'], y=average_abs,line_kws=({'color':'red'}))\n",
    "plt.title('Correlation between Age and Average Absences')\n",
    "plt.xlabel('Age')\n",
    "plt.ylabel('Average Absences')\n",
    "plt.show()"
   ]
  },
  {
   "cell_type": "markdown",
   "id": "ef751d42-41b4-4f31-8208-e40f4707f54b",
   "metadata": {},
   "source": [
    "We can see the correlation between average absences and age with the scatter plot and regression line. We can see that the correlation is positive but its quite weak so there is only a slight increase overall as we can see from the angle of the line."
   ]
  },
  {
   "cell_type": "markdown",
   "id": "55ed0f82-774b-49ee-b547-c97937bd03bb",
   "metadata": {},
   "source": [
    "### Task 3"
   ]
  },
  {
   "cell_type": "markdown",
   "id": "7c82729a-755c-4e45-894f-7e48be2d5275",
   "metadata": {},
   "source": [
    "#### Part 1"
   ]
  },
  {
   "cell_type": "markdown",
   "id": "e213f41a-2efe-40c0-b3b5-e02efeb05e81",
   "metadata": {},
   "source": [
    "Dalc - workday alcohol consumption (numeric: from 1 - very low to 5 - very high)\n",
    "Walc - weekend alcohol consumption (numeric: from 1 - very low to 5 - very high)"
   ]
  },
  {
   "cell_type": "markdown",
   "id": "cb18fba5-242c-431a-8e4e-f5fb50175a17",
   "metadata": {},
   "source": [
    "I am assuming that overall performance is the average of the students G1, G2 and G3 grades. I will create a new column for the mean value of the grades.\n",
    "These grades are not going to be scaled they are going to be in the 0-20 range again."
   ]
  },
  {
   "cell_type": "code",
   "execution_count": 43,
   "id": "2de92922-9c05-4d74-a6dc-4a150087e8a1",
   "metadata": {},
   "outputs": [],
   "source": [
    "students.loc[:,'overall_performance_math'] = students.loc[:,['G1_math', 'G2_math', 'G3_math']].mean(axis=1)\n",
    "students.loc[:,'overall_performance_por'] = students.loc[:,['G1_por','G2_por','G3_por']].mean(axis=1)"
   ]
  },
  {
   "cell_type": "markdown",
   "id": "f25d39a4-2ca7-40e9-ab04-26096bee9e1c",
   "metadata": {},
   "source": [
    "First I will check how dalc(workday alcohol consumption) affects the overall math performance of the students."
   ]
  },
  {
   "cell_type": "code",
   "execution_count": 45,
   "id": "fbb00038-6513-4f99-91ee-7d39ef50eb91",
   "metadata": {},
   "outputs": [
    {
     "data": {
      "text/html": [
       "<div>\n",
       "<style scoped>\n",
       "    .dataframe tbody tr th:only-of-type {\n",
       "        vertical-align: middle;\n",
       "    }\n",
       "\n",
       "    .dataframe tbody tr th {\n",
       "        vertical-align: top;\n",
       "    }\n",
       "\n",
       "    .dataframe thead tr th {\n",
       "        text-align: left;\n",
       "    }\n",
       "\n",
       "    .dataframe thead tr:last-of-type th {\n",
       "        text-align: right;\n",
       "    }\n",
       "</style>\n",
       "<table border=\"1\" class=\"dataframe\">\n",
       "  <thead>\n",
       "    <tr>\n",
       "      <th></th>\n",
       "      <th colspan=\"2\" halign=\"left\">overall_performance_math</th>\n",
       "    </tr>\n",
       "    <tr>\n",
       "      <th></th>\n",
       "      <th>median</th>\n",
       "      <th>mean</th>\n",
       "    </tr>\n",
       "    <tr>\n",
       "      <th>Dalc_math</th>\n",
       "      <th></th>\n",
       "      <th></th>\n",
       "    </tr>\n",
       "  </thead>\n",
       "  <tbody>\n",
       "    <tr>\n",
       "      <th>1.0</th>\n",
       "      <td>11.000000</td>\n",
       "      <td>10.907925</td>\n",
       "    </tr>\n",
       "    <tr>\n",
       "      <th>2.0</th>\n",
       "      <td>9.666667</td>\n",
       "      <td>9.744589</td>\n",
       "    </tr>\n",
       "    <tr>\n",
       "      <th>3.0</th>\n",
       "      <td>9.666667</td>\n",
       "      <td>10.538462</td>\n",
       "    </tr>\n",
       "    <tr>\n",
       "      <th>4.0</th>\n",
       "      <td>9.333333</td>\n",
       "      <td>9.814815</td>\n",
       "    </tr>\n",
       "    <tr>\n",
       "      <th>5.0</th>\n",
       "      <td>11.000000</td>\n",
       "      <td>10.629630</td>\n",
       "    </tr>\n",
       "  </tbody>\n",
       "</table>\n",
       "</div>"
      ],
      "text/plain": [
       "          overall_performance_math           \n",
       "                            median       mean\n",
       "Dalc_math                                    \n",
       "1.0                      11.000000  10.907925\n",
       "2.0                       9.666667   9.744589\n",
       "3.0                       9.666667  10.538462\n",
       "4.0                       9.333333   9.814815\n",
       "5.0                      11.000000  10.629630"
      ]
     },
     "execution_count": 45,
     "metadata": {},
     "output_type": "execute_result"
    }
   ],
   "source": [
    "dalc_math_analysis = students.loc[:,['Dalc_math','overall_performance_math']].groupby('Dalc_math').agg(['median', 'mean'])\n",
    "dalc_math_analysis"
   ]
  },
  {
   "cell_type": "markdown",
   "id": "1f3a61c3-380c-4c52-a6ff-6ed99b11d945",
   "metadata": {},
   "source": [
    "I would have thought that with the increase of dalc the average performance would be descreasing but it is not actually the case and value flactuates a lot. Still the highest average performance belongs to the students with the 1st category meaning very low alcohol consumption."
   ]
  },
  {
   "cell_type": "markdown",
   "id": "e74b073b-4de2-440f-bf23-5ee04ecad4a6",
   "metadata": {},
   "source": [
    "Now I will check how walc(weekend alcohol consumption) affects the overall math performance of the students."
   ]
  },
  {
   "cell_type": "code",
   "execution_count": 47,
   "id": "d751a455-db32-4d97-8600-a10082faf9ed",
   "metadata": {},
   "outputs": [
    {
     "data": {
      "text/html": [
       "<div>\n",
       "<style scoped>\n",
       "    .dataframe tbody tr th:only-of-type {\n",
       "        vertical-align: middle;\n",
       "    }\n",
       "\n",
       "    .dataframe tbody tr th {\n",
       "        vertical-align: top;\n",
       "    }\n",
       "\n",
       "    .dataframe thead tr th {\n",
       "        text-align: left;\n",
       "    }\n",
       "\n",
       "    .dataframe thead tr:last-of-type th {\n",
       "        text-align: right;\n",
       "    }\n",
       "</style>\n",
       "<table border=\"1\" class=\"dataframe\">\n",
       "  <thead>\n",
       "    <tr>\n",
       "      <th></th>\n",
       "      <th colspan=\"2\" halign=\"left\">overall_performance_math</th>\n",
       "    </tr>\n",
       "    <tr>\n",
       "      <th></th>\n",
       "      <th>median</th>\n",
       "      <th>mean</th>\n",
       "    </tr>\n",
       "    <tr>\n",
       "      <th>Walc_math</th>\n",
       "      <th></th>\n",
       "      <th></th>\n",
       "    </tr>\n",
       "  </thead>\n",
       "  <tbody>\n",
       "    <tr>\n",
       "      <th>1.0</th>\n",
       "      <td>11.000000</td>\n",
       "      <td>10.912393</td>\n",
       "    </tr>\n",
       "    <tr>\n",
       "      <th>2.0</th>\n",
       "      <td>11.166667</td>\n",
       "      <td>10.600000</td>\n",
       "    </tr>\n",
       "    <tr>\n",
       "      <th>3.0</th>\n",
       "      <td>10.666667</td>\n",
       "      <td>10.839506</td>\n",
       "    </tr>\n",
       "    <tr>\n",
       "      <th>4.0</th>\n",
       "      <td>10.000000</td>\n",
       "      <td>9.794872</td>\n",
       "    </tr>\n",
       "    <tr>\n",
       "      <th>5.0</th>\n",
       "      <td>9.500000</td>\n",
       "      <td>10.154762</td>\n",
       "    </tr>\n",
       "  </tbody>\n",
       "</table>\n",
       "</div>"
      ],
      "text/plain": [
       "          overall_performance_math           \n",
       "                            median       mean\n",
       "Walc_math                                    \n",
       "1.0                      11.000000  10.912393\n",
       "2.0                      11.166667  10.600000\n",
       "3.0                      10.666667  10.839506\n",
       "4.0                      10.000000   9.794872\n",
       "5.0                       9.500000  10.154762"
      ]
     },
     "execution_count": 47,
     "metadata": {},
     "output_type": "execute_result"
    }
   ],
   "source": [
    "walc_math_analysis = students.loc[:,['Walc_math','overall_performance_math']].groupby('Walc_math').agg(['median', 'mean'])\n",
    "walc_math_analysis"
   ]
  },
  {
   "cell_type": "markdown",
   "id": "b20cd589-6af0-4b18-812e-be18b2e30889",
   "metadata": {},
   "source": [
    "Similar results to the Dalc, we can see that again lowest alcohol consumption group has the highest average but there is no prominent descrease of performance with the increase of alcohol consumption."
   ]
  },
  {
   "cell_type": "markdown",
   "id": "632672c3-069a-4272-9a1a-24685a99fa2e",
   "metadata": {},
   "source": [
    "And I will check walc and dalc's effects on the overall portuguese performance of the students."
   ]
  },
  {
   "cell_type": "code",
   "execution_count": 49,
   "id": "3428097e-7b8b-47d1-95b4-f5c7b06b79e5",
   "metadata": {},
   "outputs": [
    {
     "data": {
      "text/html": [
       "<div>\n",
       "<style scoped>\n",
       "    .dataframe tbody tr th:only-of-type {\n",
       "        vertical-align: middle;\n",
       "    }\n",
       "\n",
       "    .dataframe tbody tr th {\n",
       "        vertical-align: top;\n",
       "    }\n",
       "\n",
       "    .dataframe thead tr th {\n",
       "        text-align: left;\n",
       "    }\n",
       "\n",
       "    .dataframe thead tr:last-of-type th {\n",
       "        text-align: right;\n",
       "    }\n",
       "</style>\n",
       "<table border=\"1\" class=\"dataframe\">\n",
       "  <thead>\n",
       "    <tr>\n",
       "      <th></th>\n",
       "      <th colspan=\"2\" halign=\"left\">overall_performance_por</th>\n",
       "    </tr>\n",
       "    <tr>\n",
       "      <th></th>\n",
       "      <th>median</th>\n",
       "      <th>mean</th>\n",
       "    </tr>\n",
       "    <tr>\n",
       "      <th>Dalc_por</th>\n",
       "      <th></th>\n",
       "      <th></th>\n",
       "    </tr>\n",
       "  </thead>\n",
       "  <tbody>\n",
       "    <tr>\n",
       "      <th>1.0</th>\n",
       "      <td>12.000000</td>\n",
       "      <td>11.957695</td>\n",
       "    </tr>\n",
       "    <tr>\n",
       "      <th>2.0</th>\n",
       "      <td>11.000000</td>\n",
       "      <td>11.192412</td>\n",
       "    </tr>\n",
       "    <tr>\n",
       "      <th>3.0</th>\n",
       "      <td>10.333333</td>\n",
       "      <td>10.775194</td>\n",
       "    </tr>\n",
       "    <tr>\n",
       "      <th>4.0</th>\n",
       "      <td>10.333333</td>\n",
       "      <td>9.450980</td>\n",
       "    </tr>\n",
       "    <tr>\n",
       "      <th>5.0</th>\n",
       "      <td>10.000000</td>\n",
       "      <td>9.941176</td>\n",
       "    </tr>\n",
       "  </tbody>\n",
       "</table>\n",
       "</div>"
      ],
      "text/plain": [
       "         overall_performance_por           \n",
       "                          median       mean\n",
       "Dalc_por                                   \n",
       "1.0                    12.000000  11.957695\n",
       "2.0                    11.000000  11.192412\n",
       "3.0                    10.333333  10.775194\n",
       "4.0                    10.333333   9.450980\n",
       "5.0                    10.000000   9.941176"
      ]
     },
     "execution_count": 49,
     "metadata": {},
     "output_type": "execute_result"
    }
   ],
   "source": [
    "dalc_por_analysis = students.loc[:,['Dalc_por','overall_performance_por']].groupby('Dalc_por').agg(['median', 'mean'])\n",
    "dalc_por_analysis"
   ]
  },
  {
   "cell_type": "markdown",
   "id": "c76e8ffc-3663-43b4-a7ff-b75abc1d8308",
   "metadata": {},
   "source": [
    "This is a bit more like what I expected from the results compared to the math subject ones. We can observe a decrease in average grade with the increase of alcohol consumption. Except the last category which consumes the most alcohol has a better average than group 4."
   ]
  },
  {
   "cell_type": "code",
   "execution_count": 51,
   "id": "07402f14-eb33-40a1-9a44-70072e30cb98",
   "metadata": {},
   "outputs": [
    {
     "data": {
      "text/html": [
       "<div>\n",
       "<style scoped>\n",
       "    .dataframe tbody tr th:only-of-type {\n",
       "        vertical-align: middle;\n",
       "    }\n",
       "\n",
       "    .dataframe tbody tr th {\n",
       "        vertical-align: top;\n",
       "    }\n",
       "\n",
       "    .dataframe thead tr th {\n",
       "        text-align: left;\n",
       "    }\n",
       "\n",
       "    .dataframe thead tr:last-of-type th {\n",
       "        text-align: right;\n",
       "    }\n",
       "</style>\n",
       "<table border=\"1\" class=\"dataframe\">\n",
       "  <thead>\n",
       "    <tr>\n",
       "      <th></th>\n",
       "      <th colspan=\"2\" halign=\"left\">overall_performance_por</th>\n",
       "    </tr>\n",
       "    <tr>\n",
       "      <th></th>\n",
       "      <th>median</th>\n",
       "      <th>mean</th>\n",
       "    </tr>\n",
       "    <tr>\n",
       "      <th>Walc_por</th>\n",
       "      <th></th>\n",
       "      <th></th>\n",
       "    </tr>\n",
       "  </thead>\n",
       "  <tbody>\n",
       "    <tr>\n",
       "      <th>1.0</th>\n",
       "      <td>12.000000</td>\n",
       "      <td>11.982667</td>\n",
       "    </tr>\n",
       "    <tr>\n",
       "      <th>2.0</th>\n",
       "      <td>12.000000</td>\n",
       "      <td>11.932900</td>\n",
       "    </tr>\n",
       "    <tr>\n",
       "      <th>3.0</th>\n",
       "      <td>11.833333</td>\n",
       "      <td>11.491667</td>\n",
       "    </tr>\n",
       "    <tr>\n",
       "      <th>4.0</th>\n",
       "      <td>10.666667</td>\n",
       "      <td>10.818182</td>\n",
       "    </tr>\n",
       "    <tr>\n",
       "      <th>5.0</th>\n",
       "      <td>10.666667</td>\n",
       "      <td>10.444444</td>\n",
       "    </tr>\n",
       "  </tbody>\n",
       "</table>\n",
       "</div>"
      ],
      "text/plain": [
       "         overall_performance_por           \n",
       "                          median       mean\n",
       "Walc_por                                   \n",
       "1.0                    12.000000  11.982667\n",
       "2.0                    12.000000  11.932900\n",
       "3.0                    11.833333  11.491667\n",
       "4.0                    10.666667  10.818182\n",
       "5.0                    10.666667  10.444444"
      ]
     },
     "execution_count": 51,
     "metadata": {},
     "output_type": "execute_result"
    }
   ],
   "source": [
    "walc_por_analysis = students.loc[:,['Walc_por','overall_performance_por']].groupby('Walc_por').agg(['median', 'mean'])\n",
    "walc_por_analysis"
   ]
  },
  {
   "cell_type": "markdown",
   "id": "cd31488f-658d-4627-93dc-0753851a6c9d",
   "metadata": {},
   "source": [
    "In this results we can see the consistent decrease of the average grade which is the expected result."
   ]
  },
  {
   "cell_type": "markdown",
   "id": "81dbb9b4-1a7e-499c-b5c0-8dd7ac2f9850",
   "metadata": {},
   "source": [
    "After seeing the results I want to check how many studens are in each of the alcohol consumption categories to see if we have sufficient amount of data for every category."
   ]
  },
  {
   "cell_type": "code",
   "execution_count": 53,
   "id": "8a02202a-e3b1-4ba1-bd10-48253aebeca4",
   "metadata": {},
   "outputs": [],
   "source": [
    "dalc_math_proportions = students.loc[:,'Dalc_math'].value_counts(normalize=True)\n",
    "walc_math_proportions = students.loc[:,'Walc_math'].value_counts(normalize=True)\n",
    "dalc_por_proportions = students.loc[:,'Dalc_por'].value_counts(normalize=True)\n",
    "walc_por_proportions = students.loc[:,'Walc_por'].value_counts(normalize=True)"
   ]
  },
  {
   "cell_type": "code",
   "execution_count": 55,
   "id": "2dd86158-f9f2-4d49-9fdf-eb8bef316d11",
   "metadata": {},
   "outputs": [
    {
     "name": "stdout",
     "output_type": "stream",
     "text": [
      "Proportions of Workday Alcohol Consumption (Dalc) for Math:\n",
      "Dalc_math\n",
      "1.0    0.702703\n",
      "2.0    0.189189\n",
      "3.0    0.063882\n",
      "4.0    0.022113\n",
      "5.0    0.022113\n",
      "Name: proportion, dtype: float64\n",
      "\n",
      "Proportions of Weekend Alcohol Consumption (Walc) for Math:\n",
      "Walc_math\n",
      "1.0    0.383292\n",
      "2.0    0.221130\n",
      "3.0    0.199017\n",
      "4.0    0.127764\n",
      "5.0    0.068796\n",
      "Name: proportion, dtype: float64\n",
      "\n",
      "Proportions of Workday Alcohol Consumption (Dalc) for Portuguese:\n",
      "Dalc_por\n",
      "1.0    0.695586\n",
      "2.0    0.187215\n",
      "3.0    0.065449\n",
      "4.0    0.025875\n",
      "5.0    0.025875\n",
      "Name: proportion, dtype: float64\n",
      "\n",
      "Proportions of Weekend Alcohol Consumption (Walc) for Portuguese:\n",
      "Walc_por\n",
      "1.0    0.380518\n",
      "2.0    0.234399\n",
      "3.0    0.182648\n",
      "4.0    0.133942\n",
      "5.0    0.068493\n",
      "Name: proportion, dtype: float64\n"
     ]
    }
   ],
   "source": [
    "print(f\"Proportions of Workday Alcohol Consumption (Dalc) for Math:\\n{dalc_math_proportions}\")\n",
    "print(f\"\\nProportions of Weekend Alcohol Consumption (Walc) for Math:\\n{walc_math_proportions}\")\n",
    "print(f\"\\nProportions of Workday Alcohol Consumption (Dalc) for Portuguese:\\n{dalc_por_proportions}\")\n",
    "print(f\"\\nProportions of Weekend Alcohol Consumption (Walc) for Portuguese:\\n{walc_por_proportions}\")"
   ]
  },
  {
   "cell_type": "markdown",
   "id": "af7ce259-ec8e-4380-bceb-a179fd3f056c",
   "metadata": {},
   "source": [
    "Especially for the workday alcohol consumption(dalc) we have majority of the students in the category 1(very low) and the percentage for category 5(very high) is around 2%-3% so I can say that we dont have enough data for the high categories of alcohol consumption. Maybe this can explain why the result I got previously were not the results I expected."
   ]
  },
  {
   "cell_type": "markdown",
   "id": "7b133e0d-f81b-4b2b-8cb7-11d5ed1a453b",
   "metadata": {},
   "source": [
    "I want to combine the data from por grades and math grades while still keeping them aligned with the relevant dalc and walc values. So I can make an overall analysis without differentiating the subjects."
   ]
  },
  {
   "cell_type": "code",
   "execution_count": 57,
   "id": "387206e0-9c2d-4717-9c6d-7b61d49797b8",
   "metadata": {},
   "outputs": [],
   "source": [
    "combined_subject = pd.DataFrame({\n",
    "    'Performance': students.loc[:,['overall_performance_math', 'overall_performance_por']].stack().values,\n",
    "    'Dalc': students.loc[:,['Dalc_math', 'Dalc_por']].stack().values,\n",
    "    'Walc': students.loc[:,['Walc_math', 'Walc_por']].stack().values\n",
    "})"
   ]
  },
  {
   "cell_type": "code",
   "execution_count": 59,
   "id": "cb72b65d-8c68-4418-9ca3-e2f388b4f267",
   "metadata": {},
   "outputs": [
    {
     "data": {
      "text/html": [
       "<div>\n",
       "<style scoped>\n",
       "    .dataframe tbody tr th:only-of-type {\n",
       "        vertical-align: middle;\n",
       "    }\n",
       "\n",
       "    .dataframe tbody tr th {\n",
       "        vertical-align: top;\n",
       "    }\n",
       "\n",
       "    .dataframe thead th {\n",
       "        text-align: right;\n",
       "    }\n",
       "</style>\n",
       "<table border=\"1\" class=\"dataframe\">\n",
       "  <thead>\n",
       "    <tr style=\"text-align: right;\">\n",
       "      <th></th>\n",
       "      <th>Dalc_por</th>\n",
       "      <th>Dalc_math</th>\n",
       "      <th>Walc_por</th>\n",
       "      <th>Walc_math</th>\n",
       "      <th>overall_performance_math</th>\n",
       "      <th>overall_performance_por</th>\n",
       "    </tr>\n",
       "  </thead>\n",
       "  <tbody>\n",
       "    <tr>\n",
       "      <th>0</th>\n",
       "      <td>1.0</td>\n",
       "      <td>1.0</td>\n",
       "      <td>1.0</td>\n",
       "      <td>1.0</td>\n",
       "      <td>9.000000</td>\n",
       "      <td>13.000000</td>\n",
       "    </tr>\n",
       "    <tr>\n",
       "      <th>1</th>\n",
       "      <td>1.0</td>\n",
       "      <td>NaN</td>\n",
       "      <td>1.0</td>\n",
       "      <td>NaN</td>\n",
       "      <td>NaN</td>\n",
       "      <td>8.666667</td>\n",
       "    </tr>\n",
       "    <tr>\n",
       "      <th>2</th>\n",
       "      <td>2.0</td>\n",
       "      <td>2.0</td>\n",
       "      <td>4.0</td>\n",
       "      <td>4.0</td>\n",
       "      <td>6.333333</td>\n",
       "      <td>11.666667</td>\n",
       "    </tr>\n",
       "    <tr>\n",
       "      <th>3</th>\n",
       "      <td>1.0</td>\n",
       "      <td>1.0</td>\n",
       "      <td>1.0</td>\n",
       "      <td>1.0</td>\n",
       "      <td>13.333333</td>\n",
       "      <td>13.000000</td>\n",
       "    </tr>\n",
       "    <tr>\n",
       "      <th>4</th>\n",
       "      <td>1.0</td>\n",
       "      <td>1.0</td>\n",
       "      <td>1.0</td>\n",
       "      <td>1.0</td>\n",
       "      <td>9.000000</td>\n",
       "      <td>10.333333</td>\n",
       "    </tr>\n",
       "  </tbody>\n",
       "</table>\n",
       "</div>"
      ],
      "text/plain": [
       "   Dalc_por  Dalc_math  Walc_por  Walc_math  overall_performance_math  \\\n",
       "0       1.0        1.0       1.0        1.0                  9.000000   \n",
       "1       1.0        NaN       1.0        NaN                       NaN   \n",
       "2       2.0        2.0       4.0        4.0                  6.333333   \n",
       "3       1.0        1.0       1.0        1.0                 13.333333   \n",
       "4       1.0        1.0       1.0        1.0                  9.000000   \n",
       "\n",
       "   overall_performance_por  \n",
       "0                13.000000  \n",
       "1                 8.666667  \n",
       "2                11.666667  \n",
       "3                13.000000  \n",
       "4                10.333333  "
      ]
     },
     "execution_count": 59,
     "metadata": {},
     "output_type": "execute_result"
    }
   ],
   "source": [
    "students.loc[:,['Dalc_por','Dalc_math','Walc_por','Walc_math','overall_performance_math', 'overall_performance_por']].head()"
   ]
  },
  {
   "cell_type": "code",
   "execution_count": 61,
   "id": "7e233c3c-f8ff-44e6-8dd7-f6147149b50c",
   "metadata": {},
   "outputs": [
    {
     "data": {
      "text/html": [
       "<div>\n",
       "<style scoped>\n",
       "    .dataframe tbody tr th:only-of-type {\n",
       "        vertical-align: middle;\n",
       "    }\n",
       "\n",
       "    .dataframe tbody tr th {\n",
       "        vertical-align: top;\n",
       "    }\n",
       "\n",
       "    .dataframe thead th {\n",
       "        text-align: right;\n",
       "    }\n",
       "</style>\n",
       "<table border=\"1\" class=\"dataframe\">\n",
       "  <thead>\n",
       "    <tr style=\"text-align: right;\">\n",
       "      <th></th>\n",
       "      <th>Performance</th>\n",
       "      <th>Dalc</th>\n",
       "      <th>Walc</th>\n",
       "    </tr>\n",
       "  </thead>\n",
       "  <tbody>\n",
       "    <tr>\n",
       "      <th>0</th>\n",
       "      <td>9.000000</td>\n",
       "      <td>1.0</td>\n",
       "      <td>1.0</td>\n",
       "    </tr>\n",
       "    <tr>\n",
       "      <th>1</th>\n",
       "      <td>13.000000</td>\n",
       "      <td>1.0</td>\n",
       "      <td>1.0</td>\n",
       "    </tr>\n",
       "    <tr>\n",
       "      <th>2</th>\n",
       "      <td>8.666667</td>\n",
       "      <td>1.0</td>\n",
       "      <td>1.0</td>\n",
       "    </tr>\n",
       "    <tr>\n",
       "      <th>3</th>\n",
       "      <td>6.333333</td>\n",
       "      <td>2.0</td>\n",
       "      <td>4.0</td>\n",
       "    </tr>\n",
       "    <tr>\n",
       "      <th>4</th>\n",
       "      <td>11.666667</td>\n",
       "      <td>2.0</td>\n",
       "      <td>4.0</td>\n",
       "    </tr>\n",
       "  </tbody>\n",
       "</table>\n",
       "</div>"
      ],
      "text/plain": [
       "   Performance  Dalc  Walc\n",
       "0     9.000000   1.0   1.0\n",
       "1    13.000000   1.0   1.0\n",
       "2     8.666667   1.0   1.0\n",
       "3     6.333333   2.0   4.0\n",
       "4    11.666667   2.0   4.0"
      ]
     },
     "execution_count": 61,
     "metadata": {},
     "output_type": "execute_result"
    }
   ],
   "source": [
    "combined_subject.head()"
   ]
  },
  {
   "cell_type": "markdown",
   "id": "4e4989b9-41c3-4141-acca-bbd33a4585fa",
   "metadata": {},
   "source": [
    "Now I have every por or math performance with the respective dalc and walc values for that subject."
   ]
  },
  {
   "cell_type": "code",
   "execution_count": 63,
   "id": "12959cbd-8662-4bae-995d-e1c4d5e50078",
   "metadata": {},
   "outputs": [
    {
     "data": {
      "text/html": [
       "<div>\n",
       "<style scoped>\n",
       "    .dataframe tbody tr th:only-of-type {\n",
       "        vertical-align: middle;\n",
       "    }\n",
       "\n",
       "    .dataframe tbody tr th {\n",
       "        vertical-align: top;\n",
       "    }\n",
       "\n",
       "    .dataframe thead tr th {\n",
       "        text-align: left;\n",
       "    }\n",
       "\n",
       "    .dataframe thead tr:last-of-type th {\n",
       "        text-align: right;\n",
       "    }\n",
       "</style>\n",
       "<table border=\"1\" class=\"dataframe\">\n",
       "  <thead>\n",
       "    <tr>\n",
       "      <th></th>\n",
       "      <th colspan=\"3\" halign=\"left\">Performance</th>\n",
       "    </tr>\n",
       "    <tr>\n",
       "      <th></th>\n",
       "      <th>mean</th>\n",
       "      <th>median</th>\n",
       "      <th>count</th>\n",
       "    </tr>\n",
       "    <tr>\n",
       "      <th>Dalc</th>\n",
       "      <th></th>\n",
       "      <th></th>\n",
       "      <th></th>\n",
       "    </tr>\n",
       "  </thead>\n",
       "  <tbody>\n",
       "    <tr>\n",
       "      <th>1.0</th>\n",
       "      <td>11.553611</td>\n",
       "      <td>11.666667</td>\n",
       "      <td>743</td>\n",
       "    </tr>\n",
       "    <tr>\n",
       "      <th>2.0</th>\n",
       "      <td>10.635000</td>\n",
       "      <td>10.666667</td>\n",
       "      <td>200</td>\n",
       "    </tr>\n",
       "    <tr>\n",
       "      <th>3.0</th>\n",
       "      <td>10.685990</td>\n",
       "      <td>10.333333</td>\n",
       "      <td>69</td>\n",
       "    </tr>\n",
       "    <tr>\n",
       "      <th>4.0</th>\n",
       "      <td>9.576923</td>\n",
       "      <td>10.166667</td>\n",
       "      <td>26</td>\n",
       "    </tr>\n",
       "    <tr>\n",
       "      <th>5.0</th>\n",
       "      <td>10.179487</td>\n",
       "      <td>10.333333</td>\n",
       "      <td>26</td>\n",
       "    </tr>\n",
       "  </tbody>\n",
       "</table>\n",
       "</div>"
      ],
      "text/plain": [
       "     Performance                 \n",
       "            mean     median count\n",
       "Dalc                             \n",
       "1.0    11.553611  11.666667   743\n",
       "2.0    10.635000  10.666667   200\n",
       "3.0    10.685990  10.333333    69\n",
       "4.0     9.576923  10.166667    26\n",
       "5.0    10.179487  10.333333    26"
      ]
     },
     "execution_count": 63,
     "metadata": {},
     "output_type": "execute_result"
    }
   ],
   "source": [
    "dalc_analysis = combined_subject.loc[:,['Dalc','Performance']].groupby('Dalc').agg(['mean', 'median', 'count'])\n",
    "dalc_analysis"
   ]
  },
  {
   "cell_type": "markdown",
   "id": "ffede6dd-7b5d-4470-bd48-a1ffa7a2855b",
   "metadata": {},
   "source": [
    "Now also with the number of students that fall into the dalc categories, we can see that we don't have enough students in the higher categories compared to the lower categories. But we can still observe that lowest consumption category has the highest average grade."
   ]
  },
  {
   "cell_type": "code",
   "execution_count": 65,
   "id": "e28ad2b0-82f4-4c0e-b04e-434ce63a93aa",
   "metadata": {},
   "outputs": [
    {
     "data": {
      "text/html": [
       "<div>\n",
       "<style scoped>\n",
       "    .dataframe tbody tr th:only-of-type {\n",
       "        vertical-align: middle;\n",
       "    }\n",
       "\n",
       "    .dataframe tbody tr th {\n",
       "        vertical-align: top;\n",
       "    }\n",
       "\n",
       "    .dataframe thead tr th {\n",
       "        text-align: left;\n",
       "    }\n",
       "\n",
       "    .dataframe thead tr:last-of-type th {\n",
       "        text-align: right;\n",
       "    }\n",
       "</style>\n",
       "<table border=\"1\" class=\"dataframe\">\n",
       "  <thead>\n",
       "    <tr>\n",
       "      <th></th>\n",
       "      <th colspan=\"3\" halign=\"left\">Performance</th>\n",
       "    </tr>\n",
       "    <tr>\n",
       "      <th></th>\n",
       "      <th>mean</th>\n",
       "      <th>median</th>\n",
       "      <th>count</th>\n",
       "    </tr>\n",
       "    <tr>\n",
       "      <th>Walc</th>\n",
       "      <th></th>\n",
       "      <th></th>\n",
       "      <th></th>\n",
       "    </tr>\n",
       "  </thead>\n",
       "  <tbody>\n",
       "    <tr>\n",
       "      <th>1.0</th>\n",
       "      <td>11.571429</td>\n",
       "      <td>11.666667</td>\n",
       "      <td>406</td>\n",
       "    </tr>\n",
       "    <tr>\n",
       "      <th>2.0</th>\n",
       "      <td>11.441257</td>\n",
       "      <td>11.666667</td>\n",
       "      <td>244</td>\n",
       "    </tr>\n",
       "    <tr>\n",
       "      <th>3.0</th>\n",
       "      <td>11.228856</td>\n",
       "      <td>11.333333</td>\n",
       "      <td>201</td>\n",
       "    </tr>\n",
       "    <tr>\n",
       "      <th>4.0</th>\n",
       "      <td>10.438095</td>\n",
       "      <td>10.333333</td>\n",
       "      <td>140</td>\n",
       "    </tr>\n",
       "    <tr>\n",
       "      <th>5.0</th>\n",
       "      <td>10.333333</td>\n",
       "      <td>10.333333</td>\n",
       "      <td>73</td>\n",
       "    </tr>\n",
       "  </tbody>\n",
       "</table>\n",
       "</div>"
      ],
      "text/plain": [
       "     Performance                 \n",
       "            mean     median count\n",
       "Walc                             \n",
       "1.0    11.571429  11.666667   406\n",
       "2.0    11.441257  11.666667   244\n",
       "3.0    11.228856  11.333333   201\n",
       "4.0    10.438095  10.333333   140\n",
       "5.0    10.333333  10.333333    73"
      ]
     },
     "execution_count": 65,
     "metadata": {},
     "output_type": "execute_result"
    }
   ],
   "source": [
    "walc_analysis = combined_subject.loc[:,['Walc','Performance']].groupby('Walc').agg(['mean', 'median', 'count'])\n",
    "walc_analysis"
   ]
  },
  {
   "cell_type": "markdown",
   "id": "ac45e809-8e80-477c-9037-006ec7aa4a70",
   "metadata": {},
   "source": [
    "For walc the number of students we have in different categories is a bit more balanced and the results are more like what I expected."
   ]
  },
  {
   "cell_type": "code",
   "execution_count": 67,
   "id": "f9ea1cad-193e-4c0f-9668-e46e29a89696",
   "metadata": {},
   "outputs": [
    {
     "data": {
      "image/png": "[encoded data removed]",
      "text/plain": [
       "<Figure size 640x480 with 1 Axes>"
      ]
     },
     "metadata": {},
     "output_type": "display_data"
    }
   ],
   "source": [
    "sns.boxplot(data=combined_subject, x='Dalc', y='Performance')\n",
    "plt.title('Performance Distribution by Workday Alcohol Consumption (Dalc)')\n",
    "plt.xlabel('Workday Alcohol Consumption')\n",
    "plt.ylabel('Overall Performance(0-20)')\n",
    "plt.show()"
   ]
  },
  {
   "cell_type": "code",
   "execution_count": 69,
   "id": "07d59ecf-764e-43f8-8660-544c70a16f8d",
   "metadata": {},
   "outputs": [
    {
     "data": {
      "image/png": "[encoded data removed]",
      "text/plain": [
       "<Figure size 640x480 with 1 Axes>"
      ]
     },
     "metadata": {},
     "output_type": "display_data"
    }
   ],
   "source": [
    "sns.boxplot(data=combined_subject, x='Walc', y='Performance')\n",
    "plt.title('Performance Distribution by Weekend Alcohol Consumption (Walc)')\n",
    "plt.xlabel('Weekend Alcohol Consumption')\n",
    "plt.ylabel('Overall Performance(0-20)')\n",
    "plt.show()"
   ]
  },
  {
   "cell_type": "markdown",
   "id": "bdd8e57a-bf79-4544-90b8-4294e4fe4ef1",
   "metadata": {},
   "source": [
    "Looking at this boxplots we can see the outliers for the categories, we can also see the median and the quartile values."
   ]
  },
  {
   "cell_type": "markdown",
   "id": "d8d27b23-a3f3-4405-bce1-f94167b18c59",
   "metadata": {},
   "source": [
    "#### Part 2"
   ]
  },
  {
   "cell_type": "markdown",
   "id": "19655203-493c-4ec9-944e-be8d5cdb36dc",
   "metadata": {},
   "source": [
    "Because we have 'romantic_math' and 'romantic_por' columns in our dataframe I will be checking them with the corresponding subjects performance."
   ]
  },
  {
   "cell_type": "code",
   "execution_count": 71,
   "id": "fd90bd82-e615-43e8-abae-66719134ca65",
   "metadata": {},
   "outputs": [
    {
     "data": {
      "text/html": [
       "<div>\n",
       "<style scoped>\n",
       "    .dataframe tbody tr th:only-of-type {\n",
       "        vertical-align: middle;\n",
       "    }\n",
       "\n",
       "    .dataframe tbody tr th {\n",
       "        vertical-align: top;\n",
       "    }\n",
       "\n",
       "    .dataframe thead tr th {\n",
       "        text-align: left;\n",
       "    }\n",
       "\n",
       "    .dataframe thead tr:last-of-type th {\n",
       "        text-align: right;\n",
       "    }\n",
       "</style>\n",
       "<table border=\"1\" class=\"dataframe\">\n",
       "  <thead>\n",
       "    <tr>\n",
       "      <th></th>\n",
       "      <th colspan=\"2\" halign=\"left\">overall_performance_math</th>\n",
       "    </tr>\n",
       "    <tr>\n",
       "      <th></th>\n",
       "      <th>mean</th>\n",
       "      <th>median</th>\n",
       "    </tr>\n",
       "    <tr>\n",
       "      <th>romantic_math</th>\n",
       "      <th></th>\n",
       "      <th></th>\n",
       "    </tr>\n",
       "  </thead>\n",
       "  <tbody>\n",
       "    <tr>\n",
       "      <th>no</th>\n",
       "      <td>10.887668</td>\n",
       "      <td>10.666667</td>\n",
       "    </tr>\n",
       "    <tr>\n",
       "      <th>yes</th>\n",
       "      <td>10.116915</td>\n",
       "      <td>10.500000</td>\n",
       "    </tr>\n",
       "  </tbody>\n",
       "</table>\n",
       "</div>"
      ],
      "text/plain": [
       "              overall_performance_math           \n",
       "                                  mean     median\n",
       "romantic_math                                    \n",
       "no                           10.887668  10.666667\n",
       "yes                          10.116915  10.500000"
      ]
     },
     "execution_count": 71,
     "metadata": {},
     "output_type": "execute_result"
    }
   ],
   "source": [
    "romantic_math_analysis_performance = students.loc[:,['romantic_math','overall_performance_math']].groupby('romantic_math').agg(['mean', 'median'])\n",
    "romantic_math_analysis_performance"
   ]
  },
  {
   "cell_type": "code",
   "execution_count": 73,
   "id": "f3cb9cef-042e-45e2-8a0b-000ac1234e28",
   "metadata": {},
   "outputs": [
    {
     "data": {
      "text/html": [
       "<div>\n",
       "<style scoped>\n",
       "    .dataframe tbody tr th:only-of-type {\n",
       "        vertical-align: middle;\n",
       "    }\n",
       "\n",
       "    .dataframe tbody tr th {\n",
       "        vertical-align: top;\n",
       "    }\n",
       "\n",
       "    .dataframe thead tr th {\n",
       "        text-align: left;\n",
       "    }\n",
       "\n",
       "    .dataframe thead tr:last-of-type th {\n",
       "        text-align: right;\n",
       "    }\n",
       "</style>\n",
       "<table border=\"1\" class=\"dataframe\">\n",
       "  <thead>\n",
       "    <tr>\n",
       "      <th></th>\n",
       "      <th colspan=\"2\" halign=\"left\">overall_performance_por</th>\n",
       "    </tr>\n",
       "    <tr>\n",
       "      <th></th>\n",
       "      <th>mean</th>\n",
       "      <th>median</th>\n",
       "    </tr>\n",
       "    <tr>\n",
       "      <th>romantic_por</th>\n",
       "      <th></th>\n",
       "      <th></th>\n",
       "    </tr>\n",
       "  </thead>\n",
       "  <tbody>\n",
       "    <tr>\n",
       "      <th>no</th>\n",
       "      <td>11.819712</td>\n",
       "      <td>11.666667</td>\n",
       "    </tr>\n",
       "    <tr>\n",
       "      <th>yes</th>\n",
       "      <td>11.275242</td>\n",
       "      <td>11.333333</td>\n",
       "    </tr>\n",
       "  </tbody>\n",
       "</table>\n",
       "</div>"
      ],
      "text/plain": [
       "             overall_performance_por           \n",
       "                                mean     median\n",
       "romantic_por                                   \n",
       "no                         11.819712  11.666667\n",
       "yes                        11.275242  11.333333"
      ]
     },
     "execution_count": 73,
     "metadata": {},
     "output_type": "execute_result"
    }
   ],
   "source": [
    "romantic_por_analysis_performance = students.loc[:,['romantic_por','overall_performance_por']].groupby('romantic_por').agg(['mean', 'median'])\n",
    "romantic_por_analysis_performance"
   ]
  },
  {
   "cell_type": "markdown",
   "id": "97e1c235-d2a2-419c-a62d-b2d5d106e535",
   "metadata": {},
   "source": [
    "We can observe that students who are not in romantic relationships perform better in both of the subjects."
   ]
  },
  {
   "cell_type": "markdown",
   "id": "3d6ae402-4d2e-46d6-bdef-b6837601f494",
   "metadata": {},
   "source": [
    "Again I will be analysing 'romantic_por' with 'higher_por' and 'romantic_math' with 'higher_math'. Because higher is a yes or no value I will be counting them then finding the relative frequency."
   ]
  },
  {
   "cell_type": "code",
   "execution_count": 75,
   "id": "1afb3c68-3efc-4115-9b2e-244b75f6495e",
   "metadata": {},
   "outputs": [
    {
     "data": {
      "text/plain": [
       "romantic_por  higher_por\n",
       "no            yes           0.915865\n",
       "              no            0.084135\n",
       "yes           yes           0.850622\n",
       "              no            0.149378\n",
       "Name: proportion, dtype: float64"
      ]
     },
     "execution_count": 75,
     "metadata": {},
     "output_type": "execute_result"
    }
   ],
   "source": [
    "romantic_por_analysis_higher = students.loc[:,['romantic_por','higher_por']].groupby('romantic_por').value_counts(normalize=True)\n",
    "romantic_por_analysis_higher"
   ]
  },
  {
   "cell_type": "code",
   "execution_count": 77,
   "id": "9cc65a4b-5101-47a1-8130-cc5f745a3a93",
   "metadata": {},
   "outputs": [
    {
     "data": {
      "text/plain": [
       "romantic_math  higher_math\n",
       "no             yes            0.963370\n",
       "               no             0.036630\n",
       "yes            yes            0.910448\n",
       "               no             0.089552\n",
       "Name: proportion, dtype: float64"
      ]
     },
     "execution_count": 77,
     "metadata": {},
     "output_type": "execute_result"
    }
   ],
   "source": [
    "romantic_math_analysis_higher = students.loc[:,['romantic_math','higher_math']].groupby('romantic_math').value_counts(normalize=True)\n",
    "romantic_math_analysis_higher"
   ]
  },
  {
   "cell_type": "markdown",
   "id": "75849863-aac9-4433-8768-6a6b257b6385",
   "metadata": {},
   "source": [
    "For both math and portuguese the percentage of students who wants to take higher education is higher for students who are single. We can also observe that for math percentage of students who wants to take higher education is higher than portuguese."
   ]
  },
  {
   "cell_type": "markdown",
   "id": "fb95411c-e3b6-4fd2-bf47-9d31057445ad",
   "metadata": {},
   "source": [
    "I will take same approach I took before with the walc and dalc. I will stack the average grade values and the romantic values so I can analyse for the 2 subjects overall."
   ]
  },
  {
   "cell_type": "code",
   "execution_count": 79,
   "id": "e5f922f7-d853-4054-9da1-8d44354f913a",
   "metadata": {},
   "outputs": [],
   "source": [
    "combined_romantic = pd.DataFrame({\n",
    "    'Performance': students.loc[:, ['overall_performance_math', 'overall_performance_por']].stack().values,\n",
    "    'Romantic': students.loc[:, ['romantic_math', 'romantic_por']].stack().values\n",
    "})"
   ]
  },
  {
   "cell_type": "code",
   "execution_count": 81,
   "id": "243388e7-e9da-4f73-bc29-de54cb95339a",
   "metadata": {},
   "outputs": [
    {
     "data": {
      "text/html": [
       "<div>\n",
       "<style scoped>\n",
       "    .dataframe tbody tr th:only-of-type {\n",
       "        vertical-align: middle;\n",
       "    }\n",
       "\n",
       "    .dataframe tbody tr th {\n",
       "        vertical-align: top;\n",
       "    }\n",
       "\n",
       "    .dataframe thead th {\n",
       "        text-align: right;\n",
       "    }\n",
       "</style>\n",
       "<table border=\"1\" class=\"dataframe\">\n",
       "  <thead>\n",
       "    <tr style=\"text-align: right;\">\n",
       "      <th></th>\n",
       "      <th>Performance</th>\n",
       "      <th>Romantic</th>\n",
       "    </tr>\n",
       "  </thead>\n",
       "  <tbody>\n",
       "    <tr>\n",
       "      <th>0</th>\n",
       "      <td>9.000000</td>\n",
       "      <td>no</td>\n",
       "    </tr>\n",
       "    <tr>\n",
       "      <th>1</th>\n",
       "      <td>13.000000</td>\n",
       "      <td>no</td>\n",
       "    </tr>\n",
       "    <tr>\n",
       "      <th>2</th>\n",
       "      <td>8.666667</td>\n",
       "      <td>yes</td>\n",
       "    </tr>\n",
       "    <tr>\n",
       "      <th>3</th>\n",
       "      <td>6.333333</td>\n",
       "      <td>yes</td>\n",
       "    </tr>\n",
       "    <tr>\n",
       "      <th>4</th>\n",
       "      <td>11.666667</td>\n",
       "      <td>yes</td>\n",
       "    </tr>\n",
       "  </tbody>\n",
       "</table>\n",
       "</div>"
      ],
      "text/plain": [
       "   Performance Romantic\n",
       "0     9.000000       no\n",
       "1    13.000000       no\n",
       "2     8.666667      yes\n",
       "3     6.333333      yes\n",
       "4    11.666667      yes"
      ]
     },
     "execution_count": 81,
     "metadata": {},
     "output_type": "execute_result"
    }
   ],
   "source": [
    "combined_romantic.head()"
   ]
  },
  {
   "cell_type": "code",
   "execution_count": 83,
   "id": "0a58e092-62cb-4621-97aa-71101938fefe",
   "metadata": {},
   "outputs": [
    {
     "data": {
      "text/html": [
       "<div>\n",
       "<style scoped>\n",
       "    .dataframe tbody tr th:only-of-type {\n",
       "        vertical-align: middle;\n",
       "    }\n",
       "\n",
       "    .dataframe tbody tr th {\n",
       "        vertical-align: top;\n",
       "    }\n",
       "\n",
       "    .dataframe thead th {\n",
       "        text-align: right;\n",
       "    }\n",
       "</style>\n",
       "<table border=\"1\" class=\"dataframe\">\n",
       "  <thead>\n",
       "    <tr style=\"text-align: right;\">\n",
       "      <th></th>\n",
       "      <th>romantic_math</th>\n",
       "      <th>romantic_por</th>\n",
       "      <th>overall_performance_math</th>\n",
       "      <th>overall_performance_por</th>\n",
       "    </tr>\n",
       "  </thead>\n",
       "  <tbody>\n",
       "    <tr>\n",
       "      <th>0</th>\n",
       "      <td>no</td>\n",
       "      <td>no</td>\n",
       "      <td>9.000000</td>\n",
       "      <td>13.000000</td>\n",
       "    </tr>\n",
       "    <tr>\n",
       "      <th>1</th>\n",
       "      <td>NaN</td>\n",
       "      <td>yes</td>\n",
       "      <td>NaN</td>\n",
       "      <td>8.666667</td>\n",
       "    </tr>\n",
       "    <tr>\n",
       "      <th>2</th>\n",
       "      <td>yes</td>\n",
       "      <td>yes</td>\n",
       "      <td>6.333333</td>\n",
       "      <td>11.666667</td>\n",
       "    </tr>\n",
       "    <tr>\n",
       "      <th>3</th>\n",
       "      <td>no</td>\n",
       "      <td>no</td>\n",
       "      <td>13.333333</td>\n",
       "      <td>13.000000</td>\n",
       "    </tr>\n",
       "    <tr>\n",
       "      <th>4</th>\n",
       "      <td>no</td>\n",
       "      <td>no</td>\n",
       "      <td>9.000000</td>\n",
       "      <td>10.333333</td>\n",
       "    </tr>\n",
       "  </tbody>\n",
       "</table>\n",
       "</div>"
      ],
      "text/plain": [
       "  romantic_math romantic_por  overall_performance_math  \\\n",
       "0            no           no                  9.000000   \n",
       "1           NaN          yes                       NaN   \n",
       "2           yes          yes                  6.333333   \n",
       "3            no           no                 13.333333   \n",
       "4            no           no                  9.000000   \n",
       "\n",
       "   overall_performance_por  \n",
       "0                13.000000  \n",
       "1                 8.666667  \n",
       "2                11.666667  \n",
       "3                13.000000  \n",
       "4                10.333333  "
      ]
     },
     "execution_count": 83,
     "metadata": {},
     "output_type": "execute_result"
    }
   ],
   "source": [
    "students.loc[:,['romantic_math','romantic_por','overall_performance_math', 'overall_performance_por']].head()"
   ]
  },
  {
   "cell_type": "markdown",
   "id": "09cec667-fc98-42d7-8b52-8955876c728c",
   "metadata": {},
   "source": [
    "The combined table looks like how it should be so I will aggragate it."
   ]
  },
  {
   "cell_type": "code",
   "execution_count": 85,
   "id": "7bba1c92-5d44-41a4-b2a1-369712a53a65",
   "metadata": {},
   "outputs": [
    {
     "data": {
      "text/html": [
       "<div>\n",
       "<style scoped>\n",
       "    .dataframe tbody tr th:only-of-type {\n",
       "        vertical-align: middle;\n",
       "    }\n",
       "\n",
       "    .dataframe tbody tr th {\n",
       "        vertical-align: top;\n",
       "    }\n",
       "\n",
       "    .dataframe thead th {\n",
       "        text-align: right;\n",
       "    }\n",
       "</style>\n",
       "<table border=\"1\" class=\"dataframe\">\n",
       "  <thead>\n",
       "    <tr style=\"text-align: right;\">\n",
       "      <th></th>\n",
       "      <th>mean</th>\n",
       "      <th>median</th>\n",
       "      <th>count</th>\n",
       "    </tr>\n",
       "    <tr>\n",
       "      <th>Romantic</th>\n",
       "      <th></th>\n",
       "      <th></th>\n",
       "      <th></th>\n",
       "    </tr>\n",
       "  </thead>\n",
       "  <tbody>\n",
       "    <tr>\n",
       "      <th>no</th>\n",
       "      <td>11.450411</td>\n",
       "      <td>11.333333</td>\n",
       "      <td>689</td>\n",
       "    </tr>\n",
       "    <tr>\n",
       "      <th>yes</th>\n",
       "      <td>10.861333</td>\n",
       "      <td>11.000000</td>\n",
       "      <td>375</td>\n",
       "    </tr>\n",
       "  </tbody>\n",
       "</table>\n",
       "</div>"
      ],
      "text/plain": [
       "               mean     median  count\n",
       "Romantic                             \n",
       "no        11.450411  11.333333    689\n",
       "yes       10.861333  11.000000    375"
      ]
     },
     "execution_count": 85,
     "metadata": {},
     "output_type": "execute_result"
    }
   ],
   "source": [
    "romantic_analysis = combined_romantic.groupby('Romantic')['Performance'].agg(['mean', 'median', 'count'])\n",
    "romantic_analysis"
   ]
  },
  {
   "cell_type": "markdown",
   "id": "1e6e8ef4-4a96-43f2-b08c-d919f66c03bb",
   "metadata": {},
   "source": [
    "We can observe that students who are not in romantic relationships have the better mean grade, there is also more students who are single."
   ]
  },
  {
   "cell_type": "markdown",
   "id": "0e4f2081-7d70-4e9c-ab3a-3587f47b9c9a",
   "metadata": {},
   "source": [
    "I want to a different approach for analysing the romantic's effect on higher. I noticed that differences between math and portuguese values for higher and romantic were quite few for the students that were in both of the subjects data as shown below."
   ]
  },
  {
   "cell_type": "code",
   "execution_count": 87,
   "id": "35442690-e586-4776-b975-22eab1da9073",
   "metadata": {},
   "outputs": [
    {
     "data": {
      "text/html": [
       "<div>\n",
       "<style scoped>\n",
       "    .dataframe tbody tr th:only-of-type {\n",
       "        vertical-align: middle;\n",
       "    }\n",
       "\n",
       "    .dataframe tbody tr th {\n",
       "        vertical-align: top;\n",
       "    }\n",
       "\n",
       "    .dataframe thead th {\n",
       "        text-align: right;\n",
       "    }\n",
       "</style>\n",
       "<table border=\"1\" class=\"dataframe\">\n",
       "  <thead>\n",
       "    <tr style=\"text-align: right;\">\n",
       "      <th></th>\n",
       "      <th>higher_por</th>\n",
       "      <th>higher_math</th>\n",
       "    </tr>\n",
       "  </thead>\n",
       "  <tbody>\n",
       "    <tr>\n",
       "      <th>332</th>\n",
       "      <td>yes</td>\n",
       "      <td>no</td>\n",
       "    </tr>\n",
       "    <tr>\n",
       "      <th>333</th>\n",
       "      <td>no</td>\n",
       "      <td>yes</td>\n",
       "    </tr>\n",
       "    <tr>\n",
       "      <th>369</th>\n",
       "      <td>no</td>\n",
       "      <td>yes</td>\n",
       "    </tr>\n",
       "    <tr>\n",
       "      <th>370</th>\n",
       "      <td>yes</td>\n",
       "      <td>no</td>\n",
       "    </tr>\n",
       "  </tbody>\n",
       "</table>\n",
       "</div>"
      ],
      "text/plain": [
       "    higher_por higher_math\n",
       "332        yes          no\n",
       "333         no         yes\n",
       "369         no         yes\n",
       "370        yes          no"
      ]
     },
     "execution_count": 87,
     "metadata": {},
     "output_type": "execute_result"
    }
   ],
   "source": [
    "students[(students.loc[:,\"_merge\"]=='both') & (students.loc[:,\"higher_por\"] != students.loc[:,\"higher_math\"])].loc[:,['higher_por','higher_math']]"
   ]
  },
  {
   "cell_type": "code",
   "execution_count": 89,
   "id": "13a5daae-cf1b-41e9-9c6f-5ac004906512",
   "metadata": {},
   "outputs": [
    {
     "data": {
      "text/html": [
       "<div>\n",
       "<style scoped>\n",
       "    .dataframe tbody tr th:only-of-type {\n",
       "        vertical-align: middle;\n",
       "    }\n",
       "\n",
       "    .dataframe tbody tr th {\n",
       "        vertical-align: top;\n",
       "    }\n",
       "\n",
       "    .dataframe thead th {\n",
       "        text-align: right;\n",
       "    }\n",
       "</style>\n",
       "<table border=\"1\" class=\"dataframe\">\n",
       "  <thead>\n",
       "    <tr style=\"text-align: right;\">\n",
       "      <th></th>\n",
       "      <th>romantic_por</th>\n",
       "      <th>romantic_math</th>\n",
       "    </tr>\n",
       "  </thead>\n",
       "  <tbody>\n",
       "    <tr>\n",
       "      <th>157</th>\n",
       "      <td>yes</td>\n",
       "      <td>no</td>\n",
       "    </tr>\n",
       "    <tr>\n",
       "      <th>319</th>\n",
       "      <td>no</td>\n",
       "      <td>yes</td>\n",
       "    </tr>\n",
       "    <tr>\n",
       "      <th>320</th>\n",
       "      <td>yes</td>\n",
       "      <td>no</td>\n",
       "    </tr>\n",
       "    <tr>\n",
       "      <th>332</th>\n",
       "      <td>no</td>\n",
       "      <td>yes</td>\n",
       "    </tr>\n",
       "    <tr>\n",
       "      <th>333</th>\n",
       "      <td>yes</td>\n",
       "      <td>no</td>\n",
       "    </tr>\n",
       "    <tr>\n",
       "      <th>569</th>\n",
       "      <td>yes</td>\n",
       "      <td>no</td>\n",
       "    </tr>\n",
       "  </tbody>\n",
       "</table>\n",
       "</div>"
      ],
      "text/plain": [
       "    romantic_por romantic_math\n",
       "157          yes            no\n",
       "319           no           yes\n",
       "320          yes            no\n",
       "332           no           yes\n",
       "333          yes            no\n",
       "569          yes            no"
      ]
     },
     "execution_count": 89,
     "metadata": {},
     "output_type": "execute_result"
    }
   ],
   "source": [
    "students[(students.loc[:,\"_merge\"]=='both') & (students.loc[:,\"romantic_math\"] != students.loc[:,\"romantic_por\"])].loc[:,['romantic_por','romantic_math']]"
   ]
  },
  {
   "cell_type": "markdown",
   "id": "2e4ce3b3-89c5-45d2-87d4-299fd54d9db1",
   "metadata": {},
   "source": [
    "I will use the combine_first function so that the math values are taken if we dont have the portuguese value for the student."
   ]
  },
  {
   "cell_type": "code",
   "execution_count": 91,
   "id": "50e8553f-df8e-476e-b395-bc2f34e44a39",
   "metadata": {},
   "outputs": [],
   "source": [
    "combined_romantic_higher = pd.DataFrame({\n",
    "    'Romantic': students['romantic_por'].combine_first(students['romantic_math']),\n",
    "    'Higher': students['higher_por'].combine_first(students['higher_math']),\n",
    "})"
   ]
  },
  {
   "cell_type": "code",
   "execution_count": 93,
   "id": "52302f25-5e77-48d7-8274-1060cc4076b0",
   "metadata": {},
   "outputs": [
    {
     "data": {
      "text/plain": [
       "Romantic  Higher\n",
       "no        yes       0.911215\n",
       "          no        0.088785\n",
       "yes       yes       0.854331\n",
       "          no        0.145669\n",
       "Name: proportion, dtype: float64"
      ]
     },
     "execution_count": 93,
     "metadata": {},
     "output_type": "execute_result"
    }
   ],
   "source": [
    "romantic_higher_analysis = combined_romantic_higher.groupby('Romantic')['Higher'].value_counts(normalize=True)\n",
    "romantic_higher_analysis"
   ]
  },
  {
   "cell_type": "code",
   "execution_count": 95,
   "id": "b3c2ae02-cc89-4ca2-af86-d3954089de34",
   "metadata": {},
   "outputs": [
    {
     "data": {
      "text/html": [
       "<div>\n",
       "<style scoped>\n",
       "    .dataframe tbody tr th:only-of-type {\n",
       "        vertical-align: middle;\n",
       "    }\n",
       "\n",
       "    .dataframe tbody tr th {\n",
       "        vertical-align: top;\n",
       "    }\n",
       "\n",
       "    .dataframe thead th {\n",
       "        text-align: right;\n",
       "    }\n",
       "</style>\n",
       "<table border=\"1\" class=\"dataframe\">\n",
       "  <thead>\n",
       "    <tr style=\"text-align: right;\">\n",
       "      <th>Higher</th>\n",
       "      <th>no</th>\n",
       "      <th>yes</th>\n",
       "    </tr>\n",
       "    <tr>\n",
       "      <th>Romantic</th>\n",
       "      <th></th>\n",
       "      <th></th>\n",
       "    </tr>\n",
       "  </thead>\n",
       "  <tbody>\n",
       "    <tr>\n",
       "      <th>no</th>\n",
       "      <td>0.088785</td>\n",
       "      <td>0.911215</td>\n",
       "    </tr>\n",
       "    <tr>\n",
       "      <th>yes</th>\n",
       "      <td>0.145669</td>\n",
       "      <td>0.854331</td>\n",
       "    </tr>\n",
       "  </tbody>\n",
       "</table>\n",
       "</div>"
      ],
      "text/plain": [
       "Higher          no       yes\n",
       "Romantic                    \n",
       "no        0.088785  0.911215\n",
       "yes       0.145669  0.854331"
      ]
     },
     "execution_count": 95,
     "metadata": {},
     "output_type": "execute_result"
    }
   ],
   "source": [
    "romantic_higher_analysis.unstack()"
   ]
  },
  {
   "cell_type": "markdown",
   "id": "86d84cb3-31cd-4d48-b098-28b344bb71b2",
   "metadata": {},
   "source": [
    "We can see that the percentage of students who want to take higher education is higher for the group of students who do not have a romantic relationship."
   ]
  },
  {
   "cell_type": "code",
   "execution_count": 97,
   "id": "3414c223-dc04-4308-a7cb-1d7b29dc1af8",
   "metadata": {},
   "outputs": [
    {
     "data": {
      "image/png": "[encoded data removed]",
      "text/plain": [
       "<Figure size 640x480 with 1 Axes>"
      ]
     },
     "metadata": {},
     "output_type": "display_data"
    }
   ],
   "source": [
    "romantic_higher_analysis_graph = romantic_higher_analysis.unstack()\n",
    "graph = romantic_higher_analysis_graph.plot(kind='bar', stacked=False)\n",
    "plt.title('Romantic Relationships Effect on Pursuit of Higher Education')\n",
    "plt.xlabel('Romantic Relationship Status')\n",
    "plt.ylabel('Proportion')\n",
    "plt.legend(title='Higher Education', labels=['No', 'Yes'],loc ='upper left')\n",
    "plt.show()"
   ]
  },
  {
   "cell_type": "markdown",
   "id": "1ef0c33b-ce67-4d93-9e31-e061434cc124",
   "metadata": {},
   "source": [
    "We can also see from the graph that around 90% of single students wants to pursue higher education while around 85% of students who are in a relationship wants to pursue higher education."
   ]
  }
 ],
 "metadata": {
  "kernelspec": {
   "display_name": "Python 3 (ipykernel)",
   "language": "python",
   "name": "python3"
  },
  "language_info": {
   "codemirror_mode": {
    "name": "ipython",
    "version": 3
   },
   "file_extension": ".py",
   "mimetype": "text/x-python",
   "name": "python",
   "nbconvert_exporter": "python",
   "pygments_lexer": "ipython3",
   "version": "3.12.3"
  }
 },
 "nbformat": 4,
 "nbformat_minor": 5
}
